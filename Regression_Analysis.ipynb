{
  "nbformat": 4,
  "nbformat_minor": 0,
  "metadata": {
    "colab": {
      "provenance": [],
      "include_colab_link": true
    },
    "kernelspec": {
      "name": "python3",
      "display_name": "Python 3"
    },
    "language_info": {
      "name": "python"
    }
  },
  "cells": [
    {
      "cell_type": "markdown",
      "metadata": {
        "id": "view-in-github",
        "colab_type": "text"
      },
      "source": [
        "<a href=\"https://colab.research.google.com/github/agnessia23/Portofolio/blob/main/Regression_Analysis.ipynb\" target=\"_parent\"><img src=\"https://colab.research.google.com/assets/colab-badge.svg\" alt=\"Open In Colab\"/></a>"
      ]
    },
    {
      "cell_type": "markdown",
      "source": [
        "**CASE STUDY**\n",
        "**Regression and Inferential Analysis**\n",
        "\n",
        "**TASK**\n",
        "\n",
        "Buatlah analisis regresi linear dengan data dibawah ini, Tentukan variabel mana yang paling berpengaruh terhadap jumlah kecelakaan\n",
        "\n",
        "Y = Jumlah Kecelakaan Lalu Lintas (kasus)\n",
        "\n",
        "B1 = Faktor Pengemudi (orang)\n",
        "\n",
        "B2 = Faktor Jalan (kasus)\n",
        "\n",
        "B3 = Faktor Kendaraan (kasus)\n",
        "\n",
        "B4 = Pertumbuhan jumlah kendaraan bermotor (unit)\n",
        "\n",
        "**Step 1**\n",
        "Import semua package gg dibutuhkan\n",
        "\n"
      ],
      "metadata": {
        "id": "kohjiFDoCy95"
      }
    },
    {
      "cell_type": "code",
      "execution_count": null,
      "metadata": {
        "id": "kbXKJHEb0lVb"
      },
      "outputs": [],
      "source": [
        "import pandas as pd\n",
        "import numpy as np\n",
        "import matplotlib.pyplot as plt\n",
        "import seaborn as sns\n",
        "from sklearn.model_selection import train_test_split\n",
        "from pandas.core.common import random_state\n",
        "from sklearn.linear_model import LinearRegression\n"
      ]
    },
    {
      "cell_type": "markdown",
      "source": [
        "**Step 2** : Memasukkan Data"
      ],
      "metadata": {
        "id": "r0wWtfqxCyE5"
      }
    },
    {
      "cell_type": "code",
      "source": [
        "data = pd.read_csv('Regresi.csv', engine = 'python', encoding = 'ISO-8859-1')\n",
        "data.head()"
      ],
      "metadata": {
        "colab": {
          "base_uri": "https://localhost:8080/",
          "height": 221
        },
        "id": "DjtylYr0EMrd",
        "outputId": "88c0ad0e-4684-435a-9def-d57f1f65783d"
      },
      "execution_count": null,
      "outputs": [
        {
          "output_type": "execute_result",
          "data": {
            "text/plain": [
              "   ï»¿Jumlah Kecelakaan Lalu Lintas (kasus)  Faktor Pengemudi (orang)  \\\n",
              "0                                       107                        56   \n",
              "1                                       113                        63   \n",
              "2                                       117                        60   \n",
              "3                                       129                        61   \n",
              "4                                       137                        77   \n",
              "\n",
              "   Faktor Jalan (kasus)  Faktor Kendaraan (kasus)  \\\n",
              "0                    31                        12   \n",
              "1                    23                        15   \n",
              "2                    27                        14   \n",
              "3                    33                         9   \n",
              "4                    31                        18   \n",
              "\n",
              "   Pertumbuhan jumlah kendaraan bermotor (unit)  \n",
              "0                                           873  \n",
              "1                                           402  \n",
              "2                                           538  \n",
              "3                                           432  \n",
              "4                                           746  "
            ],
            "text/html": [
              "\n",
              "  <div id=\"df-32b2e4d4-28ac-4bbe-bb0e-bbc17e046b51\" class=\"colab-df-container\">\n",
              "    <div>\n",
              "<style scoped>\n",
              "    .dataframe tbody tr th:only-of-type {\n",
              "        vertical-align: middle;\n",
              "    }\n",
              "\n",
              "    .dataframe tbody tr th {\n",
              "        vertical-align: top;\n",
              "    }\n",
              "\n",
              "    .dataframe thead th {\n",
              "        text-align: right;\n",
              "    }\n",
              "</style>\n",
              "<table border=\"1\" class=\"dataframe\">\n",
              "  <thead>\n",
              "    <tr style=\"text-align: right;\">\n",
              "      <th></th>\n",
              "      <th>ï»¿Jumlah Kecelakaan Lalu Lintas (kasus)</th>\n",
              "      <th>Faktor Pengemudi (orang)</th>\n",
              "      <th>Faktor Jalan (kasus)</th>\n",
              "      <th>Faktor Kendaraan (kasus)</th>\n",
              "      <th>Pertumbuhan jumlah kendaraan bermotor (unit)</th>\n",
              "    </tr>\n",
              "  </thead>\n",
              "  <tbody>\n",
              "    <tr>\n",
              "      <th>0</th>\n",
              "      <td>107</td>\n",
              "      <td>56</td>\n",
              "      <td>31</td>\n",
              "      <td>12</td>\n",
              "      <td>873</td>\n",
              "    </tr>\n",
              "    <tr>\n",
              "      <th>1</th>\n",
              "      <td>113</td>\n",
              "      <td>63</td>\n",
              "      <td>23</td>\n",
              "      <td>15</td>\n",
              "      <td>402</td>\n",
              "    </tr>\n",
              "    <tr>\n",
              "      <th>2</th>\n",
              "      <td>117</td>\n",
              "      <td>60</td>\n",
              "      <td>27</td>\n",
              "      <td>14</td>\n",
              "      <td>538</td>\n",
              "    </tr>\n",
              "    <tr>\n",
              "      <th>3</th>\n",
              "      <td>129</td>\n",
              "      <td>61</td>\n",
              "      <td>33</td>\n",
              "      <td>9</td>\n",
              "      <td>432</td>\n",
              "    </tr>\n",
              "    <tr>\n",
              "      <th>4</th>\n",
              "      <td>137</td>\n",
              "      <td>77</td>\n",
              "      <td>31</td>\n",
              "      <td>18</td>\n",
              "      <td>746</td>\n",
              "    </tr>\n",
              "  </tbody>\n",
              "</table>\n",
              "</div>\n",
              "    <div class=\"colab-df-buttons\">\n",
              "\n",
              "  <div class=\"colab-df-container\">\n",
              "    <button class=\"colab-df-convert\" onclick=\"convertToInteractive('df-32b2e4d4-28ac-4bbe-bb0e-bbc17e046b51')\"\n",
              "            title=\"Convert this dataframe to an interactive table.\"\n",
              "            style=\"display:none;\">\n",
              "\n",
              "  <svg xmlns=\"http://www.w3.org/2000/svg\" height=\"24px\" viewBox=\"0 -960 960 960\">\n",
              "    <path d=\"M120-120v-720h720v720H120Zm60-500h600v-160H180v160Zm220 220h160v-160H400v160Zm0 220h160v-160H400v160ZM180-400h160v-160H180v160Zm440 0h160v-160H620v160ZM180-180h160v-160H180v160Zm440 0h160v-160H620v160Z\"/>\n",
              "  </svg>\n",
              "    </button>\n",
              "\n",
              "  <style>\n",
              "    .colab-df-container {\n",
              "      display:flex;\n",
              "      gap: 12px;\n",
              "    }\n",
              "\n",
              "    .colab-df-convert {\n",
              "      background-color: #E8F0FE;\n",
              "      border: none;\n",
              "      border-radius: 50%;\n",
              "      cursor: pointer;\n",
              "      display: none;\n",
              "      fill: #1967D2;\n",
              "      height: 32px;\n",
              "      padding: 0 0 0 0;\n",
              "      width: 32px;\n",
              "    }\n",
              "\n",
              "    .colab-df-convert:hover {\n",
              "      background-color: #E2EBFA;\n",
              "      box-shadow: 0px 1px 2px rgba(60, 64, 67, 0.3), 0px 1px 3px 1px rgba(60, 64, 67, 0.15);\n",
              "      fill: #174EA6;\n",
              "    }\n",
              "\n",
              "    .colab-df-buttons div {\n",
              "      margin-bottom: 4px;\n",
              "    }\n",
              "\n",
              "    [theme=dark] .colab-df-convert {\n",
              "      background-color: #3B4455;\n",
              "      fill: #D2E3FC;\n",
              "    }\n",
              "\n",
              "    [theme=dark] .colab-df-convert:hover {\n",
              "      background-color: #434B5C;\n",
              "      box-shadow: 0px 1px 3px 1px rgba(0, 0, 0, 0.15);\n",
              "      filter: drop-shadow(0px 1px 2px rgba(0, 0, 0, 0.3));\n",
              "      fill: #FFFFFF;\n",
              "    }\n",
              "  </style>\n",
              "\n",
              "    <script>\n",
              "      const buttonEl =\n",
              "        document.querySelector('#df-32b2e4d4-28ac-4bbe-bb0e-bbc17e046b51 button.colab-df-convert');\n",
              "      buttonEl.style.display =\n",
              "        google.colab.kernel.accessAllowed ? 'block' : 'none';\n",
              "\n",
              "      async function convertToInteractive(key) {\n",
              "        const element = document.querySelector('#df-32b2e4d4-28ac-4bbe-bb0e-bbc17e046b51');\n",
              "        const dataTable =\n",
              "          await google.colab.kernel.invokeFunction('convertToInteractive',\n",
              "                                                    [key], {});\n",
              "        if (!dataTable) return;\n",
              "\n",
              "        const docLinkHtml = 'Like what you see? Visit the ' +\n",
              "          '<a target=\"_blank\" href=https://colab.research.google.com/notebooks/data_table.ipynb>data table notebook</a>'\n",
              "          + ' to learn more about interactive tables.';\n",
              "        element.innerHTML = '';\n",
              "        dataTable['output_type'] = 'display_data';\n",
              "        await google.colab.output.renderOutput(dataTable, element);\n",
              "        const docLink = document.createElement('div');\n",
              "        docLink.innerHTML = docLinkHtml;\n",
              "        element.appendChild(docLink);\n",
              "      }\n",
              "    </script>\n",
              "  </div>\n",
              "\n",
              "\n",
              "<div id=\"df-b98c26e9-907e-49ca-8241-17fce7708005\">\n",
              "  <button class=\"colab-df-quickchart\" onclick=\"quickchart('df-b98c26e9-907e-49ca-8241-17fce7708005')\"\n",
              "            title=\"Suggest charts\"\n",
              "            style=\"display:none;\">\n",
              "\n",
              "<svg xmlns=\"http://www.w3.org/2000/svg\" height=\"24px\"viewBox=\"0 0 24 24\"\n",
              "     width=\"24px\">\n",
              "    <g>\n",
              "        <path d=\"M19 3H5c-1.1 0-2 .9-2 2v14c0 1.1.9 2 2 2h14c1.1 0 2-.9 2-2V5c0-1.1-.9-2-2-2zM9 17H7v-7h2v7zm4 0h-2V7h2v10zm4 0h-2v-4h2v4z\"/>\n",
              "    </g>\n",
              "</svg>\n",
              "  </button>\n",
              "\n",
              "<style>\n",
              "  .colab-df-quickchart {\n",
              "      --bg-color: #E8F0FE;\n",
              "      --fill-color: #1967D2;\n",
              "      --hover-bg-color: #E2EBFA;\n",
              "      --hover-fill-color: #174EA6;\n",
              "      --disabled-fill-color: #AAA;\n",
              "      --disabled-bg-color: #DDD;\n",
              "  }\n",
              "\n",
              "  [theme=dark] .colab-df-quickchart {\n",
              "      --bg-color: #3B4455;\n",
              "      --fill-color: #D2E3FC;\n",
              "      --hover-bg-color: #434B5C;\n",
              "      --hover-fill-color: #FFFFFF;\n",
              "      --disabled-bg-color: #3B4455;\n",
              "      --disabled-fill-color: #666;\n",
              "  }\n",
              "\n",
              "  .colab-df-quickchart {\n",
              "    background-color: var(--bg-color);\n",
              "    border: none;\n",
              "    border-radius: 50%;\n",
              "    cursor: pointer;\n",
              "    display: none;\n",
              "    fill: var(--fill-color);\n",
              "    height: 32px;\n",
              "    padding: 0;\n",
              "    width: 32px;\n",
              "  }\n",
              "\n",
              "  .colab-df-quickchart:hover {\n",
              "    background-color: var(--hover-bg-color);\n",
              "    box-shadow: 0 1px 2px rgba(60, 64, 67, 0.3), 0 1px 3px 1px rgba(60, 64, 67, 0.15);\n",
              "    fill: var(--button-hover-fill-color);\n",
              "  }\n",
              "\n",
              "  .colab-df-quickchart-complete:disabled,\n",
              "  .colab-df-quickchart-complete:disabled:hover {\n",
              "    background-color: var(--disabled-bg-color);\n",
              "    fill: var(--disabled-fill-color);\n",
              "    box-shadow: none;\n",
              "  }\n",
              "\n",
              "  .colab-df-spinner {\n",
              "    border: 2px solid var(--fill-color);\n",
              "    border-color: transparent;\n",
              "    border-bottom-color: var(--fill-color);\n",
              "    animation:\n",
              "      spin 1s steps(1) infinite;\n",
              "  }\n",
              "\n",
              "  @keyframes spin {\n",
              "    0% {\n",
              "      border-color: transparent;\n",
              "      border-bottom-color: var(--fill-color);\n",
              "      border-left-color: var(--fill-color);\n",
              "    }\n",
              "    20% {\n",
              "      border-color: transparent;\n",
              "      border-left-color: var(--fill-color);\n",
              "      border-top-color: var(--fill-color);\n",
              "    }\n",
              "    30% {\n",
              "      border-color: transparent;\n",
              "      border-left-color: var(--fill-color);\n",
              "      border-top-color: var(--fill-color);\n",
              "      border-right-color: var(--fill-color);\n",
              "    }\n",
              "    40% {\n",
              "      border-color: transparent;\n",
              "      border-right-color: var(--fill-color);\n",
              "      border-top-color: var(--fill-color);\n",
              "    }\n",
              "    60% {\n",
              "      border-color: transparent;\n",
              "      border-right-color: var(--fill-color);\n",
              "    }\n",
              "    80% {\n",
              "      border-color: transparent;\n",
              "      border-right-color: var(--fill-color);\n",
              "      border-bottom-color: var(--fill-color);\n",
              "    }\n",
              "    90% {\n",
              "      border-color: transparent;\n",
              "      border-bottom-color: var(--fill-color);\n",
              "    }\n",
              "  }\n",
              "</style>\n",
              "\n",
              "  <script>\n",
              "    async function quickchart(key) {\n",
              "      const quickchartButtonEl =\n",
              "        document.querySelector('#' + key + ' button');\n",
              "      quickchartButtonEl.disabled = true;  // To prevent multiple clicks.\n",
              "      quickchartButtonEl.classList.add('colab-df-spinner');\n",
              "      try {\n",
              "        const charts = await google.colab.kernel.invokeFunction(\n",
              "            'suggestCharts', [key], {});\n",
              "      } catch (error) {\n",
              "        console.error('Error during call to suggestCharts:', error);\n",
              "      }\n",
              "      quickchartButtonEl.classList.remove('colab-df-spinner');\n",
              "      quickchartButtonEl.classList.add('colab-df-quickchart-complete');\n",
              "    }\n",
              "    (() => {\n",
              "      let quickchartButtonEl =\n",
              "        document.querySelector('#df-b98c26e9-907e-49ca-8241-17fce7708005 button');\n",
              "      quickchartButtonEl.style.display =\n",
              "        google.colab.kernel.accessAllowed ? 'block' : 'none';\n",
              "    })();\n",
              "  </script>\n",
              "</div>\n",
              "\n",
              "    </div>\n",
              "  </div>\n"
            ],
            "application/vnd.google.colaboratory.intrinsic+json": {
              "type": "dataframe",
              "variable_name": "data",
              "summary": "{\n  \"name\": \"data\",\n  \"rows\": 12,\n  \"fields\": [\n    {\n      \"column\": \"\\u00ef\\u00bb\\u00bfJumlah Kecelakaan Lalu Lintas (kasus)\",\n      \"properties\": {\n        \"dtype\": \"number\",\n        \"std\": 11,\n        \"min\": 99,\n        \"max\": 137,\n        \"num_unique_values\": 12,\n        \"samples\": [\n          116,\n          101,\n          107\n        ],\n        \"semantic_type\": \"\",\n        \"description\": \"\"\n      }\n    },\n    {\n      \"column\": \"Faktor Pengemudi (orang)\",\n      \"properties\": {\n        \"dtype\": \"number\",\n        \"std\": 6,\n        \"min\": 54,\n        \"max\": 77,\n        \"num_unique_values\": 8,\n        \"samples\": [\n          63,\n          54,\n          56\n        ],\n        \"semantic_type\": \"\",\n        \"description\": \"\"\n      }\n    },\n    {\n      \"column\": \"Faktor Jalan (kasus)\",\n      \"properties\": {\n        \"dtype\": \"number\",\n        \"std\": 5,\n        \"min\": 17,\n        \"max\": 33,\n        \"num_unique_values\": 9,\n        \"samples\": [\n          32,\n          23,\n          30\n        ],\n        \"semantic_type\": \"\",\n        \"description\": \"\"\n      }\n    },\n    {\n      \"column\": \"Faktor Kendaraan (kasus)\",\n      \"properties\": {\n        \"dtype\": \"number\",\n        \"std\": 3,\n        \"min\": 9,\n        \"max\": 21,\n        \"num_unique_values\": 9,\n        \"samples\": [\n          13,\n          15,\n          11\n        ],\n        \"semantic_type\": \"\",\n        \"description\": \"\"\n      }\n    },\n    {\n      \"column\": \"Pertumbuhan jumlah kendaraan bermotor (unit)\",\n      \"properties\": {\n        \"dtype\": \"number\",\n        \"std\": 198,\n        \"min\": 393,\n        \"max\": 904,\n        \"num_unique_values\": 11,\n        \"samples\": [\n          393,\n          873,\n          871\n        ],\n        \"semantic_type\": \"\",\n        \"description\": \"\"\n      }\n    }\n  ]\n}"
            }
          },
          "metadata": {},
          "execution_count": 11
        }
      ]
    },
    {
      "cell_type": "markdown",
      "source": [
        "**Data Analysis**"
      ],
      "metadata": {
        "id": "76CS7s-u1-F8"
      }
    },
    {
      "cell_type": "code",
      "source": [
        "#Describe Data\n",
        "data.describe()"
      ],
      "metadata": {
        "colab": {
          "base_uri": "https://localhost:8080/",
          "height": 314
        },
        "id": "b6dBPzfn2E6c",
        "outputId": "9015f728-e3b6-4823-efe7-dd84ad488198"
      },
      "execution_count": null,
      "outputs": [
        {
          "output_type": "execute_result",
          "data": {
            "text/plain": [
              "       ï»¿Jumlah Kecelakaan Lalu Lintas (kasus)  Faktor Pengemudi (orang)  \\\n",
              "count                                 12.000000                 12.000000   \n",
              "mean                                 114.500000                 60.250000   \n",
              "std                                   11.587611                  6.210329   \n",
              "min                                   99.000000                 54.000000   \n",
              "25%                                  106.000000                 56.000000   \n",
              "50%                                  113.500000                 59.500000   \n",
              "75%                                  119.250000                 61.500000   \n",
              "max                                  137.000000                 77.000000   \n",
              "\n",
              "       Faktor Jalan (kasus)  Faktor Kendaraan (kasus)  \\\n",
              "count             12.000000                 12.000000   \n",
              "mean              26.666667                 13.083333   \n",
              "std                5.382351                  3.629634   \n",
              "min               17.000000                  9.000000   \n",
              "25%               22.250000                 10.750000   \n",
              "50%               28.000000                 12.500000   \n",
              "75%               31.000000                 14.250000   \n",
              "max               33.000000                 21.000000   \n",
              "\n",
              "       Pertumbuhan jumlah kendaraan bermotor (unit)  \n",
              "count                                     12.000000  \n",
              "mean                                     642.750000  \n",
              "std                                      198.474695  \n",
              "min                                      393.000000  \n",
              "25%                                      477.750000  \n",
              "50%                                      642.000000  \n",
              "75%                                      817.000000  \n",
              "max                                      904.000000  "
            ],
            "text/html": [
              "\n",
              "  <div id=\"df-f8d92102-3d5d-4d6b-bb62-4bf157162475\" class=\"colab-df-container\">\n",
              "    <div>\n",
              "<style scoped>\n",
              "    .dataframe tbody tr th:only-of-type {\n",
              "        vertical-align: middle;\n",
              "    }\n",
              "\n",
              "    .dataframe tbody tr th {\n",
              "        vertical-align: top;\n",
              "    }\n",
              "\n",
              "    .dataframe thead th {\n",
              "        text-align: right;\n",
              "    }\n",
              "</style>\n",
              "<table border=\"1\" class=\"dataframe\">\n",
              "  <thead>\n",
              "    <tr style=\"text-align: right;\">\n",
              "      <th></th>\n",
              "      <th>ï»¿Jumlah Kecelakaan Lalu Lintas (kasus)</th>\n",
              "      <th>Faktor Pengemudi (orang)</th>\n",
              "      <th>Faktor Jalan (kasus)</th>\n",
              "      <th>Faktor Kendaraan (kasus)</th>\n",
              "      <th>Pertumbuhan jumlah kendaraan bermotor (unit)</th>\n",
              "    </tr>\n",
              "  </thead>\n",
              "  <tbody>\n",
              "    <tr>\n",
              "      <th>count</th>\n",
              "      <td>12.000000</td>\n",
              "      <td>12.000000</td>\n",
              "      <td>12.000000</td>\n",
              "      <td>12.000000</td>\n",
              "      <td>12.000000</td>\n",
              "    </tr>\n",
              "    <tr>\n",
              "      <th>mean</th>\n",
              "      <td>114.500000</td>\n",
              "      <td>60.250000</td>\n",
              "      <td>26.666667</td>\n",
              "      <td>13.083333</td>\n",
              "      <td>642.750000</td>\n",
              "    </tr>\n",
              "    <tr>\n",
              "      <th>std</th>\n",
              "      <td>11.587611</td>\n",
              "      <td>6.210329</td>\n",
              "      <td>5.382351</td>\n",
              "      <td>3.629634</td>\n",
              "      <td>198.474695</td>\n",
              "    </tr>\n",
              "    <tr>\n",
              "      <th>min</th>\n",
              "      <td>99.000000</td>\n",
              "      <td>54.000000</td>\n",
              "      <td>17.000000</td>\n",
              "      <td>9.000000</td>\n",
              "      <td>393.000000</td>\n",
              "    </tr>\n",
              "    <tr>\n",
              "      <th>25%</th>\n",
              "      <td>106.000000</td>\n",
              "      <td>56.000000</td>\n",
              "      <td>22.250000</td>\n",
              "      <td>10.750000</td>\n",
              "      <td>477.750000</td>\n",
              "    </tr>\n",
              "    <tr>\n",
              "      <th>50%</th>\n",
              "      <td>113.500000</td>\n",
              "      <td>59.500000</td>\n",
              "      <td>28.000000</td>\n",
              "      <td>12.500000</td>\n",
              "      <td>642.000000</td>\n",
              "    </tr>\n",
              "    <tr>\n",
              "      <th>75%</th>\n",
              "      <td>119.250000</td>\n",
              "      <td>61.500000</td>\n",
              "      <td>31.000000</td>\n",
              "      <td>14.250000</td>\n",
              "      <td>817.000000</td>\n",
              "    </tr>\n",
              "    <tr>\n",
              "      <th>max</th>\n",
              "      <td>137.000000</td>\n",
              "      <td>77.000000</td>\n",
              "      <td>33.000000</td>\n",
              "      <td>21.000000</td>\n",
              "      <td>904.000000</td>\n",
              "    </tr>\n",
              "  </tbody>\n",
              "</table>\n",
              "</div>\n",
              "    <div class=\"colab-df-buttons\">\n",
              "\n",
              "  <div class=\"colab-df-container\">\n",
              "    <button class=\"colab-df-convert\" onclick=\"convertToInteractive('df-f8d92102-3d5d-4d6b-bb62-4bf157162475')\"\n",
              "            title=\"Convert this dataframe to an interactive table.\"\n",
              "            style=\"display:none;\">\n",
              "\n",
              "  <svg xmlns=\"http://www.w3.org/2000/svg\" height=\"24px\" viewBox=\"0 -960 960 960\">\n",
              "    <path d=\"M120-120v-720h720v720H120Zm60-500h600v-160H180v160Zm220 220h160v-160H400v160Zm0 220h160v-160H400v160ZM180-400h160v-160H180v160Zm440 0h160v-160H620v160ZM180-180h160v-160H180v160Zm440 0h160v-160H620v160Z\"/>\n",
              "  </svg>\n",
              "    </button>\n",
              "\n",
              "  <style>\n",
              "    .colab-df-container {\n",
              "      display:flex;\n",
              "      gap: 12px;\n",
              "    }\n",
              "\n",
              "    .colab-df-convert {\n",
              "      background-color: #E8F0FE;\n",
              "      border: none;\n",
              "      border-radius: 50%;\n",
              "      cursor: pointer;\n",
              "      display: none;\n",
              "      fill: #1967D2;\n",
              "      height: 32px;\n",
              "      padding: 0 0 0 0;\n",
              "      width: 32px;\n",
              "    }\n",
              "\n",
              "    .colab-df-convert:hover {\n",
              "      background-color: #E2EBFA;\n",
              "      box-shadow: 0px 1px 2px rgba(60, 64, 67, 0.3), 0px 1px 3px 1px rgba(60, 64, 67, 0.15);\n",
              "      fill: #174EA6;\n",
              "    }\n",
              "\n",
              "    .colab-df-buttons div {\n",
              "      margin-bottom: 4px;\n",
              "    }\n",
              "\n",
              "    [theme=dark] .colab-df-convert {\n",
              "      background-color: #3B4455;\n",
              "      fill: #D2E3FC;\n",
              "    }\n",
              "\n",
              "    [theme=dark] .colab-df-convert:hover {\n",
              "      background-color: #434B5C;\n",
              "      box-shadow: 0px 1px 3px 1px rgba(0, 0, 0, 0.15);\n",
              "      filter: drop-shadow(0px 1px 2px rgba(0, 0, 0, 0.3));\n",
              "      fill: #FFFFFF;\n",
              "    }\n",
              "  </style>\n",
              "\n",
              "    <script>\n",
              "      const buttonEl =\n",
              "        document.querySelector('#df-f8d92102-3d5d-4d6b-bb62-4bf157162475 button.colab-df-convert');\n",
              "      buttonEl.style.display =\n",
              "        google.colab.kernel.accessAllowed ? 'block' : 'none';\n",
              "\n",
              "      async function convertToInteractive(key) {\n",
              "        const element = document.querySelector('#df-f8d92102-3d5d-4d6b-bb62-4bf157162475');\n",
              "        const dataTable =\n",
              "          await google.colab.kernel.invokeFunction('convertToInteractive',\n",
              "                                                    [key], {});\n",
              "        if (!dataTable) return;\n",
              "\n",
              "        const docLinkHtml = 'Like what you see? Visit the ' +\n",
              "          '<a target=\"_blank\" href=https://colab.research.google.com/notebooks/data_table.ipynb>data table notebook</a>'\n",
              "          + ' to learn more about interactive tables.';\n",
              "        element.innerHTML = '';\n",
              "        dataTable['output_type'] = 'display_data';\n",
              "        await google.colab.output.renderOutput(dataTable, element);\n",
              "        const docLink = document.createElement('div');\n",
              "        docLink.innerHTML = docLinkHtml;\n",
              "        element.appendChild(docLink);\n",
              "      }\n",
              "    </script>\n",
              "  </div>\n",
              "\n",
              "\n",
              "<div id=\"df-1c733b59-a52f-4ccc-9d95-b1946028558c\">\n",
              "  <button class=\"colab-df-quickchart\" onclick=\"quickchart('df-1c733b59-a52f-4ccc-9d95-b1946028558c')\"\n",
              "            title=\"Suggest charts\"\n",
              "            style=\"display:none;\">\n",
              "\n",
              "<svg xmlns=\"http://www.w3.org/2000/svg\" height=\"24px\"viewBox=\"0 0 24 24\"\n",
              "     width=\"24px\">\n",
              "    <g>\n",
              "        <path d=\"M19 3H5c-1.1 0-2 .9-2 2v14c0 1.1.9 2 2 2h14c1.1 0 2-.9 2-2V5c0-1.1-.9-2-2-2zM9 17H7v-7h2v7zm4 0h-2V7h2v10zm4 0h-2v-4h2v4z\"/>\n",
              "    </g>\n",
              "</svg>\n",
              "  </button>\n",
              "\n",
              "<style>\n",
              "  .colab-df-quickchart {\n",
              "      --bg-color: #E8F0FE;\n",
              "      --fill-color: #1967D2;\n",
              "      --hover-bg-color: #E2EBFA;\n",
              "      --hover-fill-color: #174EA6;\n",
              "      --disabled-fill-color: #AAA;\n",
              "      --disabled-bg-color: #DDD;\n",
              "  }\n",
              "\n",
              "  [theme=dark] .colab-df-quickchart {\n",
              "      --bg-color: #3B4455;\n",
              "      --fill-color: #D2E3FC;\n",
              "      --hover-bg-color: #434B5C;\n",
              "      --hover-fill-color: #FFFFFF;\n",
              "      --disabled-bg-color: #3B4455;\n",
              "      --disabled-fill-color: #666;\n",
              "  }\n",
              "\n",
              "  .colab-df-quickchart {\n",
              "    background-color: var(--bg-color);\n",
              "    border: none;\n",
              "    border-radius: 50%;\n",
              "    cursor: pointer;\n",
              "    display: none;\n",
              "    fill: var(--fill-color);\n",
              "    height: 32px;\n",
              "    padding: 0;\n",
              "    width: 32px;\n",
              "  }\n",
              "\n",
              "  .colab-df-quickchart:hover {\n",
              "    background-color: var(--hover-bg-color);\n",
              "    box-shadow: 0 1px 2px rgba(60, 64, 67, 0.3), 0 1px 3px 1px rgba(60, 64, 67, 0.15);\n",
              "    fill: var(--button-hover-fill-color);\n",
              "  }\n",
              "\n",
              "  .colab-df-quickchart-complete:disabled,\n",
              "  .colab-df-quickchart-complete:disabled:hover {\n",
              "    background-color: var(--disabled-bg-color);\n",
              "    fill: var(--disabled-fill-color);\n",
              "    box-shadow: none;\n",
              "  }\n",
              "\n",
              "  .colab-df-spinner {\n",
              "    border: 2px solid var(--fill-color);\n",
              "    border-color: transparent;\n",
              "    border-bottom-color: var(--fill-color);\n",
              "    animation:\n",
              "      spin 1s steps(1) infinite;\n",
              "  }\n",
              "\n",
              "  @keyframes spin {\n",
              "    0% {\n",
              "      border-color: transparent;\n",
              "      border-bottom-color: var(--fill-color);\n",
              "      border-left-color: var(--fill-color);\n",
              "    }\n",
              "    20% {\n",
              "      border-color: transparent;\n",
              "      border-left-color: var(--fill-color);\n",
              "      border-top-color: var(--fill-color);\n",
              "    }\n",
              "    30% {\n",
              "      border-color: transparent;\n",
              "      border-left-color: var(--fill-color);\n",
              "      border-top-color: var(--fill-color);\n",
              "      border-right-color: var(--fill-color);\n",
              "    }\n",
              "    40% {\n",
              "      border-color: transparent;\n",
              "      border-right-color: var(--fill-color);\n",
              "      border-top-color: var(--fill-color);\n",
              "    }\n",
              "    60% {\n",
              "      border-color: transparent;\n",
              "      border-right-color: var(--fill-color);\n",
              "    }\n",
              "    80% {\n",
              "      border-color: transparent;\n",
              "      border-right-color: var(--fill-color);\n",
              "      border-bottom-color: var(--fill-color);\n",
              "    }\n",
              "    90% {\n",
              "      border-color: transparent;\n",
              "      border-bottom-color: var(--fill-color);\n",
              "    }\n",
              "  }\n",
              "</style>\n",
              "\n",
              "  <script>\n",
              "    async function quickchart(key) {\n",
              "      const quickchartButtonEl =\n",
              "        document.querySelector('#' + key + ' button');\n",
              "      quickchartButtonEl.disabled = true;  // To prevent multiple clicks.\n",
              "      quickchartButtonEl.classList.add('colab-df-spinner');\n",
              "      try {\n",
              "        const charts = await google.colab.kernel.invokeFunction(\n",
              "            'suggestCharts', [key], {});\n",
              "      } catch (error) {\n",
              "        console.error('Error during call to suggestCharts:', error);\n",
              "      }\n",
              "      quickchartButtonEl.classList.remove('colab-df-spinner');\n",
              "      quickchartButtonEl.classList.add('colab-df-quickchart-complete');\n",
              "    }\n",
              "    (() => {\n",
              "      let quickchartButtonEl =\n",
              "        document.querySelector('#df-1c733b59-a52f-4ccc-9d95-b1946028558c button');\n",
              "      quickchartButtonEl.style.display =\n",
              "        google.colab.kernel.accessAllowed ? 'block' : 'none';\n",
              "    })();\n",
              "  </script>\n",
              "</div>\n",
              "\n",
              "    </div>\n",
              "  </div>\n"
            ],
            "application/vnd.google.colaboratory.intrinsic+json": {
              "type": "dataframe",
              "summary": "{\n  \"name\": \"data\",\n  \"rows\": 8,\n  \"fields\": [\n    {\n      \"column\": \"\\u00ef\\u00bb\\u00bfJumlah Kecelakaan Lalu Lintas (kasus)\",\n      \"properties\": {\n        \"dtype\": \"number\",\n        \"std\": 48.96084847118306,\n        \"min\": 11.587610938960943,\n        \"max\": 137.0,\n        \"num_unique_values\": 8,\n        \"samples\": [\n          114.5,\n          113.5,\n          12.0\n        ],\n        \"semantic_type\": \"\",\n        \"description\": \"\"\n      }\n    },\n    {\n      \"column\": \"Faktor Pengemudi (orang)\",\n      \"properties\": {\n        \"dtype\": \"number\",\n        \"std\": 25.205391940842357,\n        \"min\": 6.21032864011091,\n        \"max\": 77.0,\n        \"num_unique_values\": 8,\n        \"samples\": [\n          60.25,\n          59.5,\n          12.0\n        ],\n        \"semantic_type\": \"\",\n        \"description\": \"\"\n      }\n    },\n    {\n      \"column\": \"Faktor Jalan (kasus)\",\n      \"properties\": {\n        \"dtype\": \"number\",\n        \"std\": 9.71688611473343,\n        \"min\": 5.382350506024015,\n        \"max\": 33.0,\n        \"num_unique_values\": 8,\n        \"samples\": [\n          26.666666666666668,\n          28.0,\n          12.0\n        ],\n        \"semantic_type\": \"\",\n        \"description\": \"\"\n      }\n    },\n    {\n      \"column\": \"Faktor Kendaraan (kasus)\",\n      \"properties\": {\n        \"dtype\": \"number\",\n        \"std\": 4.900524315551349,\n        \"min\": 3.629633924274241,\n        \"max\": 21.0,\n        \"num_unique_values\": 8,\n        \"samples\": [\n          13.083333333333334,\n          12.5,\n          12.0\n        ],\n        \"semantic_type\": \"\",\n        \"description\": \"\"\n      }\n    },\n    {\n      \"column\": \"Pertumbuhan jumlah kendaraan bermotor (unit)\",\n      \"properties\": {\n        \"dtype\": \"number\",\n        \"std\": 303.3872018853169,\n        \"min\": 12.0,\n        \"max\": 904.0,\n        \"num_unique_values\": 8,\n        \"samples\": [\n          642.75,\n          642.0,\n          12.0\n        ],\n        \"semantic_type\": \"\",\n        \"description\": \"\"\n      }\n    }\n  ]\n}"
            }
          },
          "metadata": {},
          "execution_count": 12
        }
      ]
    },
    {
      "cell_type": "markdown",
      "source": [
        "Dari sini dapat dilihat rata rata kasus yang terjadi sebanyak 114, kemudian kecelakan terjadi berkisar antara  99 sampai dengan 137"
      ],
      "metadata": {
        "id": "wPT0Ub3aEpMe"
      }
    },
    {
      "cell_type": "code",
      "source": [
        "#Data Distribution\n",
        "plt.title('Highway Accident Distribution Plot')\n",
        "sns.distplot(data['ï»¿Jumlah Kecelakaan Lalu Lintas (kasus)'])\n",
        "plt.show"
      ],
      "metadata": {
        "colab": {
          "base_uri": "https://localhost:8080/",
          "height": 828
        },
        "id": "dYnZdvv1FcdK",
        "outputId": "f3f9bbdd-b656-4eb2-db13-0fc5ce7fe74f"
      },
      "execution_count": null,
      "outputs": [
        {
          "output_type": "stream",
          "name": "stderr",
          "text": [
            "<ipython-input-14-177179eb5960>:3: UserWarning: \n",
            "\n",
            "`distplot` is a deprecated function and will be removed in seaborn v0.14.0.\n",
            "\n",
            "Please adapt your code to use either `displot` (a figure-level function with\n",
            "similar flexibility) or `histplot` (an axes-level function for histograms).\n",
            "\n",
            "For a guide to updating your code to use the new functions, please see\n",
            "https://gist.github.com/mwaskom/de44147ed2974457ad6372750bbe5751\n",
            "\n",
            "  sns.distplot(data['ï»¿Jumlah Kecelakaan Lalu Lintas (kasus)'])\n"
          ]
        },
        {
          "output_type": "execute_result",
          "data": {
            "text/plain": [
              "<function matplotlib.pyplot.show(close=None, block=None)>"
            ],
            "text/html": [
              "<div style=\"max-width:800px; border: 1px solid var(--colab-border-color);\"><style>\n",
              "      pre.function-repr-contents {\n",
              "        overflow-x: auto;\n",
              "        padding: 8px 12px;\n",
              "        max-height: 500px;\n",
              "      }\n",
              "\n",
              "      pre.function-repr-contents.function-repr-contents-collapsed {\n",
              "        cursor: pointer;\n",
              "        max-height: 100px;\n",
              "      }\n",
              "    </style>\n",
              "    <pre style=\"white-space: initial; background:\n",
              "         var(--colab-secondary-surface-color); padding: 8px 12px;\n",
              "         border-bottom: 1px solid var(--colab-border-color);\"><b>matplotlib.pyplot.show</b><br/>def show(*args, **kwargs)</pre><pre class=\"function-repr-contents function-repr-contents-collapsed\" style=\"\"><a class=\"filepath\" style=\"display:none\" href=\"#\">/usr/local/lib/python3.10/dist-packages/matplotlib/pyplot.py</a>Display all open figures.\n",
              "\n",
              "Parameters\n",
              "----------\n",
              "block : bool, optional\n",
              "    Whether to wait for all figures to be closed before returning.\n",
              "\n",
              "    If `True` block and run the GUI main loop until all figure windows\n",
              "    are closed.\n",
              "\n",
              "    If `False` ensure that all figure windows are displayed and return\n",
              "    immediately.  In this case, you are responsible for ensuring\n",
              "    that the event loop is running to have responsive figures.\n",
              "\n",
              "    Defaults to True in non-interactive mode and to False in interactive\n",
              "    mode (see `.pyplot.isinteractive`).\n",
              "\n",
              "See Also\n",
              "--------\n",
              "ion : Enable interactive mode, which shows / updates the figure after\n",
              "      every plotting command, so that calling ``show()`` is not necessary.\n",
              "ioff : Disable interactive mode.\n",
              "savefig : Save the figure to an image file instead of showing it on screen.\n",
              "\n",
              "Notes\n",
              "-----\n",
              "**Saving figures to file and showing a window at the same time**\n",
              "\n",
              "If you want an image file as well as a user interface window, use\n",
              "`.pyplot.savefig` before `.pyplot.show`. At the end of (a blocking)\n",
              "``show()`` the figure is closed and thus unregistered from pyplot. Calling\n",
              "`.pyplot.savefig` afterwards would save a new and thus empty figure. This\n",
              "limitation of command order does not apply if the show is non-blocking or\n",
              "if you keep a reference to the figure and use `.Figure.savefig`.\n",
              "\n",
              "**Auto-show in jupyter notebooks**\n",
              "\n",
              "The jupyter backends (activated via ``%matplotlib inline``,\n",
              "``%matplotlib notebook``, or ``%matplotlib widget``), call ``show()`` at\n",
              "the end of every cell by default. Thus, you usually don&#x27;t have to call it\n",
              "explicitly there.</pre>\n",
              "      <script>\n",
              "      if (google.colab.kernel.accessAllowed && google.colab.files && google.colab.files.view) {\n",
              "        for (const element of document.querySelectorAll('.filepath')) {\n",
              "          element.style.display = 'block'\n",
              "          element.onclick = (event) => {\n",
              "            event.preventDefault();\n",
              "            event.stopPropagation();\n",
              "            google.colab.files.view(element.textContent, 401);\n",
              "          };\n",
              "        }\n",
              "      }\n",
              "      for (const element of document.querySelectorAll('.function-repr-contents')) {\n",
              "        element.onclick = (event) => {\n",
              "          event.preventDefault();\n",
              "          event.stopPropagation();\n",
              "          element.classList.toggle('function-repr-contents-collapsed');\n",
              "        };\n",
              "      }\n",
              "      </script>\n",
              "      </div>"
            ]
          },
          "metadata": {},
          "execution_count": 14
        },
        {
          "output_type": "display_data",
          "data": {
            "text/plain": [
              "<Figure size 640x480 with 1 Axes>"
            ],
            "image/png": "[encoded data removed]"
          },
          "metadata": {}
        }
      ]
    },
    {
      "cell_type": "markdown",
      "source": [
        "Distrubusi Plot menunjukkan variasi sebaran data. Ini mewakili data dengan menggabungkan garis dengan historgram. dari sini dapat kita lihat kembali bahwa yang paling kecil adalah 99 dan yang paling tingi yaitu 134\n"
      ],
      "metadata": {
        "id": "eJmuJwZyHO8j"
      }
    },
    {
      "cell_type": "code",
      "source": [
        "plt.figure(figsize=(14, 10))\n",
        "\n",
        "# Plot 1: Jumlah kecelakaan vs Orang\n",
        "plt.subplot(2, 2, 1)\n",
        "plt.scatter(data['ï»¿Jumlah Kecelakaan Lalu Lintas (kasus)'], data['Faktor Pengemudi (orang)'], color='lightcoral')\n",
        "plt.title('Jumlah kecelakaan vs Orang')\n",
        "plt.xlabel('Orang')\n",
        "plt.ylabel('Jumlah Kecelakaan')\n",
        "plt.box(True)\n",
        "\n",
        "# Plot 2: Jumlah kecelakaan vs Jalan\n",
        "plt.subplot(2, 2, 2)\n",
        "plt.scatter(data['ï»¿Jumlah Kecelakaan Lalu Lintas (kasus)'], data['Faktor Jalan (kasus)'], color='lightcoral')\n",
        "plt.title('Jumlah kecelakaan vs Jalan')\n",
        "plt.xlabel('Jalan')\n",
        "plt.ylabel('Jumlah Kecelakaan')\n",
        "plt.box(True)\n",
        "\n",
        "# Plot 3: Jumlah kecelakaan vs Kendaraan\n",
        "plt.subplot(2, 2, 3)\n",
        "plt.scatter(data['ï»¿Jumlah Kecelakaan Lalu Lintas (kasus)'], data['Faktor Kendaraan (kasus)'], color='lightcoral')\n",
        "plt.title('Jumlah kecelakaan vs Kendaraan')\n",
        "plt.xlabel('Kendaraan')\n",
        "plt.ylabel('Jumlah Kecelakaan')\n",
        "plt.box(True)\n",
        "\n",
        "# Plot 4: Jumlah kecelakaan vs Unit\n",
        "plt.subplot(2, 22, 4)\n",
        "plt.scatter(data['ï»¿Jumlah Kecelakaan Lalu Lintas (kasus)'], data['Pertumbuhan jumlah kendaraan bermotor (unit)'], color='lightcoral')\n",
        "plt.title('Jumlah kecelakaan vs Unit')\n",
        "plt.xlabel('Unit')\n",
        "plt.ylabel('Jumlah Kecelakaan')\n",
        "plt.box(True)\n",
        "\n",
        "plt.tight_layout()\n",
        "plt.show()"
      ],
      "metadata": {
        "colab": {
          "base_uri": "https://localhost:8080/",
          "height": 841
        },
        "id": "C9M8-zWiK3RC",
        "outputId": "61ae74d7-93c7-4db0-e852-844223d33f87"
      },
      "execution_count": null,
      "outputs": [
        {
          "output_type": "display_data",
          "data": {
            "text/plain": [
              "<Figure size 1400x1000 with 4 Axes>"
            ],
            "image/png": "[encoded data removed]"
          },
          "metadata": {}
        }
      ]
    },
    {
      "cell_type": "code",
      "source": [
        "plt.figure(figsize=(10, 8))\n",
        "\n",
        "# Plot semua hubungan dalam satu gambar\n",
        "plt.scatter(data['ï»¿Jumlah Kecelakaan Lalu Lintas (kasus)'], data['Faktor Pengemudi (orang)'], color='lightcoral', label='Orang')\n",
        "plt.scatter(data['ï»¿Jumlah Kecelakaan Lalu Lintas (kasus)'], data['Faktor Jalan (kasus)'], color='lightblue', label='Jalan')\n",
        "plt.scatter(data['ï»¿Jumlah Kecelakaan Lalu Lintas (kasus)'], data['Faktor Kendaraan (kasus)'], color='lightgreen', label='Kendaraan')\n",
        "plt.scatter(data['ï»¿Jumlah Kecelakaan Lalu Lintas (kasus)'], data['Pertumbuhan jumlah kendaraan bermotor (unit)'], color='gold', label='Unit')\n",
        "\n",
        "plt.title('Variabel Y vs X1, X2, X3')\n",
        "plt.xlabel('Orang, Jalan, Kendaraan, Unit')\n",
        "plt.ylabel('Variabel Kasus Kecelakaan')\n",
        "plt.legend()  # Untuk menampilkan label variabel\n",
        "plt.box(True)\n",
        "plt.show()"
      ],
      "metadata": {
        "colab": {
          "base_uri": "https://localhost:8080/",
          "height": 718
        },
        "id": "Ou1rmWwzLqdJ",
        "outputId": "a872671a-af0f-4f52-f3e1-889a14c87b53"
      },
      "execution_count": null,
      "outputs": [
        {
          "output_type": "display_data",
          "data": {
            "text/plain": [
              "<Figure size 1000x800 with 1 Axes>"
            ],
            "image/png": "[encoded data removed]"
          },
          "metadata": {}
        }
      ]
    },
    {
      "cell_type": "markdown",
      "source": [
        "**Membagi data set menjadi dependent dan independent Variabel**"
      ],
      "metadata": {
        "id": "8hpx33CbNo72"
      }
    },
    {
      "cell_type": "code",
      "source": [
        "# Dependent variable (y) - kolom pertama\n",
        "y = data.iloc[:, 0]\n",
        "\n",
        "# Independent variables (X) - kolom kedua hingga keempat\n",
        "x = data.iloc[:, 1:5]"
      ],
      "metadata": {
        "id": "TLZeK8zMPvjV"
      },
      "execution_count": null,
      "outputs": []
    },
    {
      "cell_type": "markdown",
      "source": [
        "**Membuat Model**"
      ],
      "metadata": {
        "id": "OAc6OrNHP8m_"
      }
    },
    {
      "cell_type": "code",
      "source": [
        "Regressor = LinearRegression()\n",
        "Regressor.fit(x,y)"
      ],
      "metadata": {
        "colab": {
          "base_uri": "https://localhost:8080/",
          "height": 74
        },
        "id": "IyqUApImP8Lo",
        "outputId": "9f24df9a-3b51-4515-a484-3d89e2f5a2c6"
      },
      "execution_count": null,
      "outputs": [
        {
          "output_type": "execute_result",
          "data": {
            "text/plain": [
              "LinearRegression()"
            ],
            "text/html": [
              "<style>#sk-container-id-1 {color: black;}#sk-container-id-1 pre{padding: 0;}#sk-container-id-1 div.sk-toggleable {background-color: white;}#sk-container-id-1 label.sk-toggleable__label {cursor: pointer;display: block;width: 100%;margin-bottom: 0;padding: 0.3em;box-sizing: border-box;text-align: center;}#sk-container-id-1 label.sk-toggleable__label-arrow:before {content: \"▸\";float: left;margin-right: 0.25em;color: #696969;}#sk-container-id-1 label.sk-toggleable__label-arrow:hover:before {color: black;}#sk-container-id-1 div.sk-estimator:hover label.sk-toggleable__label-arrow:before {color: black;}#sk-container-id-1 div.sk-toggleable__content {max-height: 0;max-width: 0;overflow: hidden;text-align: left;background-color: #f0f8ff;}#sk-container-id-1 div.sk-toggleable__content pre {margin: 0.2em;color: black;border-radius: 0.25em;background-color: #f0f8ff;}#sk-container-id-1 input.sk-toggleable__control:checked~div.sk-toggleable__content {max-height: 200px;max-width: 100%;overflow: auto;}#sk-container-id-1 input.sk-toggleable__control:checked~label.sk-toggleable__label-arrow:before {content: \"▾\";}#sk-container-id-1 div.sk-estimator input.sk-toggleable__control:checked~label.sk-toggleable__label {background-color: #d4ebff;}#sk-container-id-1 div.sk-label input.sk-toggleable__control:checked~label.sk-toggleable__label {background-color: #d4ebff;}#sk-container-id-1 input.sk-hidden--visually {border: 0;clip: rect(1px 1px 1px 1px);clip: rect(1px, 1px, 1px, 1px);height: 1px;margin: -1px;overflow: hidden;padding: 0;position: absolute;width: 1px;}#sk-container-id-1 div.sk-estimator {font-family: monospace;background-color: #f0f8ff;border: 1px dotted black;border-radius: 0.25em;box-sizing: border-box;margin-bottom: 0.5em;}#sk-container-id-1 div.sk-estimator:hover {background-color: #d4ebff;}#sk-container-id-1 div.sk-parallel-item::after {content: \"\";width: 100%;border-bottom: 1px solid gray;flex-grow: 1;}#sk-container-id-1 div.sk-label:hover label.sk-toggleable__label {background-color: #d4ebff;}#sk-container-id-1 div.sk-serial::before {content: \"\";position: absolute;border-left: 1px solid gray;box-sizing: border-box;top: 0;bottom: 0;left: 50%;z-index: 0;}#sk-container-id-1 div.sk-serial {display: flex;flex-direction: column;align-items: center;background-color: white;padding-right: 0.2em;padding-left: 0.2em;position: relative;}#sk-container-id-1 div.sk-item {position: relative;z-index: 1;}#sk-container-id-1 div.sk-parallel {display: flex;align-items: stretch;justify-content: center;background-color: white;position: relative;}#sk-container-id-1 div.sk-item::before, #sk-container-id-1 div.sk-parallel-item::before {content: \"\";position: absolute;border-left: 1px solid gray;box-sizing: border-box;top: 0;bottom: 0;left: 50%;z-index: -1;}#sk-container-id-1 div.sk-parallel-item {display: flex;flex-direction: column;z-index: 1;position: relative;background-color: white;}#sk-container-id-1 div.sk-parallel-item:first-child::after {align-self: flex-end;width: 50%;}#sk-container-id-1 div.sk-parallel-item:last-child::after {align-self: flex-start;width: 50%;}#sk-container-id-1 div.sk-parallel-item:only-child::after {width: 0;}#sk-container-id-1 div.sk-dashed-wrapped {border: 1px dashed gray;margin: 0 0.4em 0.5em 0.4em;box-sizing: border-box;padding-bottom: 0.4em;background-color: white;}#sk-container-id-1 div.sk-label label {font-family: monospace;font-weight: bold;display: inline-block;line-height: 1.2em;}#sk-container-id-1 div.sk-label-container {text-align: center;}#sk-container-id-1 div.sk-container {/* jupyter's `normalize.less` sets `[hidden] { display: none; }` but bootstrap.min.css set `[hidden] { display: none !important; }` so we also need the `!important` here to be able to override the default hidden behavior on the sphinx rendered scikit-learn.org. See: https://github.com/scikit-learn/scikit-learn/issues/21755 */display: inline-block !important;position: relative;}#sk-container-id-1 div.sk-text-repr-fallback {display: none;}</style><div id=\"sk-container-id-1\" class=\"sk-top-container\"><div class=\"sk-text-repr-fallback\"><pre>LinearRegression()</pre><b>In a Jupyter environment, please rerun this cell to show the HTML representation or trust the notebook. <br />On GitHub, the HTML representation is unable to render, please try loading this page with nbviewer.org.</b></div><div class=\"sk-container\" hidden><div class=\"sk-item\"><div class=\"sk-estimator sk-toggleable\"><input class=\"sk-toggleable__control sk-hidden--visually\" id=\"sk-estimator-id-1\" type=\"checkbox\" checked><label for=\"sk-estimator-id-1\" class=\"sk-toggleable__label sk-toggleable__label-arrow\">LinearRegression</label><div class=\"sk-toggleable__content\"><pre>LinearRegression()</pre></div></div></div></div></div>"
            ]
          },
          "metadata": {},
          "execution_count": 36
        }
      ]
    },
    {
      "cell_type": "code",
      "source": [
        "# Get the coefficient and the intercept\n",
        "coefficients = Regressor.coef_\n",
        "intercept = Regressor.intercept_\n",
        "\n",
        "print(coefficients)\n",
        "print(intercept)"
      ],
      "metadata": {
        "colab": {
          "base_uri": "https://localhost:8080/"
        },
        "id": "tl032eshP77Q",
        "outputId": "d0784804-d770-4b93-f762-e07073c8531c"
      },
      "execution_count": null,
      "outputs": [
        {
          "output_type": "stream",
          "name": "stdout",
          "text": [
            "[ 0.90844505  1.34394216  0.50142411 -0.02459449]\n",
            "33.17553598356555\n"
          ]
        }
      ]
    },
    {
      "cell_type": "code",
      "source": [
        "# Compose Column Names\n",
        "feature_names = x.columns\n",
        "\n",
        "# Printing the Regression Equation\n",
        "equation = \"y = {:.2f}\".format(intercept)\n",
        "for coef, feature in zip(coefficients, feature_names):\n",
        "    equation += \" + ({:.2f} * {})\".format(coef, feature)\n",
        "\n",
        "print(\"Regression Equation:\")\n",
        "print(equation)"
      ],
      "metadata": {
        "colab": {
          "base_uri": "https://localhost:8080/"
        },
        "id": "2mWVPDjaRrwt",
        "outputId": "e3bbadce-952b-43ab-8239-908a484c7bd6"
      },
      "execution_count": null,
      "outputs": [
        {
          "output_type": "stream",
          "name": "stdout",
          "text": [
            "Regression Equation:\n",
            "y = 33.18 + (0.91 * Faktor Pengemudi (orang)) + (1.34 * Faktor Jalan (kasus)) + (0.50 * Faktor Kendaraan (kasus)) + (-0.02 * Pertumbuhan jumlah kendaraan bermotor (unit))\n"
          ]
        }
      ]
    },
    {
      "cell_type": "markdown",
      "source": [
        "**Penjelasan:**\n",
        "\n",
        "*   Intercept (33.18): Ini adalah nilai dasar dari variabel dependen y\n",
        "\n",
        "ketika semua variabel independen (Faktor Pengemudi (orang), Faktor Jalan (kasus), Faktor Kendaraan (kasus), dan Pertumbuhan jumlah kendaraan bermotor (unit)) bernilai nol. Ini adalah titik potong sumbu Y pada grafik regresi.\n",
        "\n",
        "*   Koefisien:\n",
        "1. 0.91 (Faktor Pengemudi (orang)): Setiap peningkatan satu unit dalam Faktor Pengemudi (orang) akan meningkatkan y sebesar 0.91 unit, dengan asumsi variabel independen lainnya tetap konstan.\n",
        "2. 1.34 (Faktor Jalan (kasus)): Setiap peningkatan satu unit dalam Faktor Jalan (kasus) akan meningkatkan y sebesar 1.34 unit, dengan asumsi variabel independen lainnya tetap konstan.\n",
        "3. 0.50 (Faktor Kendaraan (kasus)): Setiap peningkatan satu unit dalam Faktor Kendaraan (kasus) akan meningkatkan y sebesar 0.50 unit, dengan asumsi variabel independen lainnya tetap konstan.\n",
        "\n",
        "\n",
        "-0.02 (Pertumbuhan jumlah kendaraan bermotor (unit)): Setiap peningkatan satu unit dalam Pertumbuhan jumlah kendaraan bermotor (unit) akan menurunkan y sebesar 0.02 unit, dengan asumsi variabel independen lainnya tetap konstan."
      ],
      "metadata": {
        "id": "zogBYO8rUDTV"
      }
    },
    {
      "cell_type": "markdown",
      "source": [
        "**Step 6 : Mengevaluasi Model**\n",
        "\n",
        "R^2\n"
      ],
      "metadata": {
        "id": "RQoQH6UnVd1H"
      }
    },
    {
      "cell_type": "code",
      "source": [
        "r_squared = Regressor.score(x,y)\n",
        "print(r_squared)"
      ],
      "metadata": {
        "colab": {
          "base_uri": "https://localhost:8080/"
        },
        "id": "G9W2cwNhRriI",
        "outputId": "7f892d11-f8c3-46aa-cc26-5b5530cca05d"
      },
      "execution_count": null,
      "outputs": [
        {
          "output_type": "stream",
          "name": "stdout",
          "text": [
            "0.6210837387520458\n"
          ]
        }
      ]
    },
    {
      "cell_type": "markdown",
      "source": [
        "**Mean Squared Error (MSE)**"
      ],
      "metadata": {
        "id": "JS2FFXSYV2uW"
      }
    },
    {
      "cell_type": "code",
      "source": [
        "y_pred = Regressor.predict(x)"
      ],
      "metadata": {
        "id": "ys57MxUiV15x"
      },
      "execution_count": null,
      "outputs": []
    },
    {
      "cell_type": "code",
      "source": [
        "from sklearn.metrics import mean_squared_error, mean_absolute_error, r2_score\n"
      ],
      "metadata": {
        "id": "NPcaIFI9WSsQ"
      },
      "execution_count": null,
      "outputs": []
    },
    {
      "cell_type": "markdown",
      "source": [
        "**RMSE**"
      ],
      "metadata": {
        "id": "H6Dx0p3fWSbD"
      }
    },
    {
      "cell_type": "code",
      "source": [
        "rmse = mean_squared_error(y, y_pred, squared=False)\n",
        "rmse"
      ],
      "metadata": {
        "colab": {
          "base_uri": "https://localhost:8080/"
        },
        "id": "e6do_RchWXwf",
        "outputId": "f6ee683c-48ed-4e5b-8172-d816ecf74d2e"
      },
      "execution_count": null,
      "outputs": [
        {
          "output_type": "execute_result",
          "data": {
            "text/plain": [
              "6.8292222462446155"
            ]
          },
          "metadata": {},
          "execution_count": 46
        }
      ]
    }
  ]
}